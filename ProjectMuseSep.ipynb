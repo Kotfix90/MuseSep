{
 "cells": [
  {
   "cell_type": "markdown",
   "id": "5fa5561e",
   "metadata": {},
   "source": [
    "Библиотеки"
   ]
  },
  {
   "cell_type": "code",
   "execution_count": 1,
   "id": "705be30f",
   "metadata": {},
   "outputs": [],
   "source": [
    "# Импорт PyTorch\n",
    "import torch\n",
    "import torch.nn as nn\n",
    "import torch.optim as optim\n",
    "from torch.utils.data import DataLoader, Dataset\n",
    "\n",
    "# Импорт NumPy\n",
    "import numpy as np\n",
    "\n",
    "# Импорт Matplotlib\n",
    "import matplotlib.pyplot as plt\n",
    "\n",
    "# Импорт Librosa\n",
    "import librosa\n",
    "import librosa.display\n",
    "\n",
    "#импорт os\n",
    "import os"
   ]
  },
  {
   "cell_type": "markdown",
   "id": "99e1c024",
   "metadata": {},
   "source": [
    "пути для входных и целевых данных"
   ]
  },
  {
   "cell_type": "code",
   "execution_count": 2,
   "id": "f2fb653d",
   "metadata": {},
   "outputs": [],
   "source": [
    "mix_dir = \"C:\\для учебы\\Диплом\\Диплом маг\\DataSet\\SDataSet\\mix\"\n",
    "inst_dir = \"C:\\для учебы\\Диплом\\Диплом маг\\DataSet\\SDataSet\\instruments\""
   ]
  },
  {
   "cell_type": "code",
   "execution_count": null,
   "id": "3d54ff44",
   "metadata": {},
   "outputs": [],
   "source": [
    "mix_list = os.listdir(mix_dir)\n"
   ]
  },
  {
   "cell_type": "code",
   "execution_count": null,
   "id": "81ed50ca",
   "metadata": {},
   "outputs": [
    {
     "data": {
      "text/plain": [
       "100"
      ]
     },
     "execution_count": 5,
     "metadata": {},
     "output_type": "execute_result"
    }
   ],
   "source": []
  }
 ],
 "metadata": {
  "kernelspec": {
   "display_name": "Python 3",
   "language": "python",
   "name": "python3"
  },
  "language_info": {
   "codemirror_mode": {
    "name": "ipython",
    "version": 3
   },
   "file_extension": ".py",
   "mimetype": "text/x-python",
   "name": "python",
   "nbconvert_exporter": "python",
   "pygments_lexer": "ipython3",
   "version": "3.11.9"
  }
 },
 "nbformat": 4,
 "nbformat_minor": 5
}
