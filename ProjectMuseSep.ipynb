{
 "cells": [
  {
   "cell_type": "markdown",
   "id": "5fa5561e",
   "metadata": {},
   "source": [
    "Библиотеки"
   ]
  },
  {
   "cell_type": "code",
   "execution_count": 1,
   "id": "705be30f",
   "metadata": {},
   "outputs": [],
   "source": [
    "# Импорт PyTorch\n",
    "import torch\n",
    "import torch.nn as nn\n",
    "import torch.optim as optim\n",
    "from torch.utils.data import DataLoader, Dataset\n",
    "import torchaudio\n",
    "\n",
    "# Импорт NumPy\n",
    "import numpy as np\n",
    "\n",
    "# Импорт Matplotlib\n",
    "import matplotlib.pyplot as plt\n",
    "\n",
    "# Импорт Librosa\n",
    "import librosa\n",
    "import librosa.display\n",
    "\n",
    "#импорт os\n",
    "import os"
   ]
  },
  {
   "cell_type": "markdown",
   "id": "99e1c024",
   "metadata": {},
   "source": [
    "пути для входных и целевых данных"
   ]
  },
  {
   "cell_type": "code",
   "execution_count": 2,
   "id": "f2fb653d",
   "metadata": {},
   "outputs": [],
   "source": [
    "mix_dir = \"C:\\для учебы\\Диплом\\Диплом маг\\DataSet\\SDataSet\\mix\"\n",
    "inst_dir = \"C:\\для учебы\\Диплом\\Диплом маг\\DataSet\\SDataSet\\instruments\""
   ]
  },
  {
   "cell_type": "markdown",
   "id": "b4ce35fc",
   "metadata": {},
   "source": [
    "Класс дата-сета"
   ]
  },
  {
   "cell_type": "code",
   "execution_count": null,
   "id": "cfd2f8bb",
   "metadata": {},
   "outputs": [],
   "source": [
    "class MusicSeparationDataset(Dataset):\n",
    "    def __init__(self, mix_dir, instruments_dir):\n",
    "        self.mix_dir = mix_dir\n",
    "        self.instruments_dir = instruments_dir\n",
    "\n",
    "        self.tracks = sorted([ f for f in os.listdir(mix_dir) if f.endswith('.flac')])\n",
    "\n",
    "        self.instrument_classes = ['Bass','Drums','Guitars','Keys']\n",
    "        \n",
    "    def __len__(self):\n",
    "        return len(self.tracks)\n",
    "    \n",
    "    def __getitem__(self, idx, sr=44100):\n",
    "        self.sr = sr\n",
    "        self.track_id = self.tracks[idx]\n",
    "        track_name = os.path.splitext(self.track_id)[0]\n",
    "\n",
    "        mix_path = os.path.join(self.mix_dir, track_name)\n",
    "        mix_waveform, sr = torchaudio.load(mix_path)\n",
    "\n",
    "        targets = []\n",
    "        for inst in self.instrument_classes:\n",
    "            inst_path = os.path.join(self.instruments_dir, inst, track_name)\n",
    "            inst_waveform, _ = torchaudio.load(inst_path)\n",
    "            targets.append(inst_waveform)\n",
    "        \n",
    "        target_tensor = torch.stack(targets)\n",
    "        return mix_waveform, target_tensor\n"
   ]
  },
  {
   "cell_type": "code",
   "execution_count": 4,
   "id": "ba1c0b2f",
   "metadata": {},
   "outputs": [],
   "source": [
    "data_set = MusicSeparationDataset(mix_dir, inst_dir)"
   ]
  },
  {
   "cell_type": "code",
   "execution_count": 5,
   "id": "131a141e",
   "metadata": {},
   "outputs": [
    {
     "data": {
      "text/plain": [
       "torch.Size([1, 10652672])"
      ]
     },
     "execution_count": 5,
     "metadata": {},
     "output_type": "execute_result"
    }
   ],
   "source": [
    "data_set[0][0].shape"
   ]
  },
  {
   "cell_type": "code",
   "execution_count": 6,
   "id": "e4b84990",
   "metadata": {},
   "outputs": [
    {
     "data": {
      "text/plain": [
       "torch.Size([4, 1, 10652672])"
      ]
     },
     "execution_count": 6,
     "metadata": {},
     "output_type": "execute_result"
    }
   ],
   "source": [
    "data_set[0][1].shape"
   ]
  },
  {
   "cell_type": "code",
   "execution_count": 7,
   "id": "82e9db34",
   "metadata": {},
   "outputs": [
    {
     "data": {
      "text/plain": [
       "100"
      ]
     },
     "execution_count": 7,
     "metadata": {},
     "output_type": "execute_result"
    }
   ],
   "source": [
    "len(data_set)"
   ]
  },
  {
   "cell_type": "code",
   "execution_count": 14,
   "id": "4fcf9694",
   "metadata": {},
   "outputs": [
    {
     "data": {
      "text/plain": [
       "torch.Size([4, 1, 10652672])"
      ]
     },
     "execution_count": 14,
     "metadata": {},
     "output_type": "execute_result"
    }
   ],
   "source": [
    "data_set[0][1].shape"
   ]
  },
  {
   "cell_type": "markdown",
   "id": "2270d8d8",
   "metadata": {},
   "source": [
    "Data-loader"
   ]
  },
  {
   "cell_type": "code",
   "execution_count": 26,
   "id": "480601ab",
   "metadata": {},
   "outputs": [],
   "source": [
    "import torch\n",
    "import torch.nn.functional as F\n",
    "\n",
    "def collate_fn(batch):\n",
    "    \"\"\"\n",
    "    Принимает список из N элементов, где каждый элемент — это (mix_waveform, target_tensor)\n",
    "    mix_waveform: [1, T]\n",
    "    target_tensor: [num_instruments, 1, T]\n",
    "    \"\"\"\n",
    "    mixes, targets = zip(*batch)  # список миксов и список таргетов\n",
    "\n",
    "    # Определим максимальную длину аудио в батче\n",
    "    max_len = max(mix.shape[1] for mix in mixes)\n",
    "\n",
    "    # Паддим миксы до max_len\n",
    "    padded_mixes = [F.pad(mix, (0, max_len - mix.shape[1])) for mix in mixes]\n",
    "\n",
    "    # Паддим каждый target (каждый target — это [N, 1, T])\n",
    "    padded_targets = [F.pad(tgt, (0, max_len - tgt.shape[2])) for tgt in targets]\n",
    "\n",
    "    # Собираем в тензоры батча\n",
    "    mix_batch = torch.stack(padded_mixes)       # [B, 1, max_len]\n",
    "    target_batch = torch.stack(padded_targets)  # [B, N, 1, max_len]\n",
    "\n",
    "    return mix_batch, target_batch\n"
   ]
  },
  {
   "cell_type": "code",
   "execution_count": 31,
   "id": "754ae7a1",
   "metadata": {},
   "outputs": [],
   "source": [
    "dataloader = DataLoader(data_set, batch_size=4, collate_fn=collate_fn, shuffle=False)"
   ]
  },
  {
   "cell_type": "code",
   "execution_count": 32,
   "id": "185e6866",
   "metadata": {},
   "outputs": [
    {
     "name": "stdout",
     "output_type": "stream",
     "text": [
      "Mix shape: torch.Size([4, 1, 11879936])\n",
      "Targets shape: torch.Size([4, 4, 1, 11879936])\n"
     ]
    }
   ],
   "source": [
    "for mix, targets in dataloader:\n",
    "    print(\"Mix shape:\", mix.shape)        # [4, 1, T]\n",
    "    print(\"Targets shape:\", targets.shape)  # [4, N, 1, T]\n",
    "    break  # только один batch\n"
   ]
  },
  {
   "cell_type": "markdown",
   "id": "3f9afb85",
   "metadata": {},
   "source": [
    "Модель"
   ]
  },
  {
   "cell_type": "code",
   "execution_count": null,
   "id": "f5b4f9df",
   "metadata": {},
   "outputs": [],
   "source": [
    "#Эмбеддинг-класс\n",
    "class PatchEmbed(nn.Module):\n",
    "    def __init__(self, patch_size, embed_dim):\n",
    "        super().__init__()\n",
    "        self.patch_size = patch_size\n",
    "        self.embed_dim = embed_dim\n",
    "        self.proj = nn.Linear(patch_size[0] * patch_size[1], embed_dim)\n",
    "\n",
    "    def forward(self, x):  # x: [B, 1, T, F]\n",
    "        B, C, T, F = x.shape\n",
    "        t_p, f_p = self.patch_size\n",
    "        x = x.unfold(2, t_p, t_p).unfold(3, f_p, f_p)  # [B, C, n_t, n_f, t_p, f_p]\n",
    "        x = x.contiguous().view(B, -1, t_p * f_p)      # [B, Num_patches, Patch_dim]\n",
    "        return self.proj(x)                            # [B, Num_patches, Embed_dim]\n"
   ]
  },
  {
   "cell_type": "code",
   "execution_count": null,
   "id": "e2a0edb0",
   "metadata": {},
   "outputs": [],
   "source": [
    "class TransformerBlock(nn.Module):\n",
    "    def __init__(self, embed_dim, num_heads, ff_dim):\n",
    "        super().__init__()\n",
    "        self.attn = nn.MultiheadAttention(embed_dim, num_heads, batch_first=True)\n",
    "        self.norm1 = nn.LayerNorm(embed_dim)\n",
    "        self.norm2 = nn.LayerNorm(embed_dim)\n",
    "        self.ff = nn.Sequential(\n",
    "            nn.Linear(embed_dim, ff_dim),\n",
    "            nn.ReLU(),\n",
    "            nn.Linear(ff_dim, embed_dim)\n",
    "        )\n",
    "\n",
    "    def forward(self, x):\n",
    "        x = x + self.attn(self.norm1(x), self.norm1(x), self.norm1(x))[0]\n",
    "        x = x + self.ff(self.norm2(x))\n",
    "        return x\n"
   ]
  },
  {
   "cell_type": "code",
   "execution_count": null,
   "id": "e536ce29",
   "metadata": {},
   "outputs": [],
   "source": [
    "class PatchDecoder(nn.Module):\n",
    "    def __init__(self, patch_size, embed_dim, out_channels, out_shape):\n",
    "        super().__init__()\n",
    "        self.patch_size = patch_size\n",
    "        self.out_shape = out_shape\n",
    "        self.out_channels = out_channels\n",
    "        self.proj = nn.Linear(embed_dim, patch_size[0] * patch_size[1] * out_channels)\n",
    "\n",
    "    def forward(self, x):  # [B, Num_patches, Embed_dim]\n",
    "        B, N, D = x.shape\n",
    "        x = self.proj(x)  # [B, N, P×P×C]\n",
    "        t_p, f_p = self.patch_size\n",
    "        T, F = self.out_shape\n",
    "        x = x.view(B, N, self.out_channels, t_p, f_p)\n",
    "        # Расклеим обратно в 2D спектрограмму\n",
    "        n_t = T // t_p\n",
    "        n_f = F // f_p\n",
    "        x = x.view(B, n_t, n_f, self.out_channels, t_p, f_p)\n",
    "        x = x.permute(0, 3, 1, 4, 2, 5).contiguous()\n",
    "        x = x.view(B, self.out_channels, T, F)\n",
    "        return x\n"
   ]
  },
  {
   "cell_type": "code",
   "execution_count": null,
   "id": "986f2b2e",
   "metadata": {},
   "outputs": [],
   "source": [
    "class SimpleAudioTransformer(nn.Module):\n",
    "    def __init__(self, patch_size=(16, 16), embed_dim=256, num_heads=4, ff_dim=512, num_layers=4, n_outputs=3, input_shape=(128, 128)):\n",
    "        super().__init__()\n",
    "        self.embed = PatchEmbed(patch_size, embed_dim)\n",
    "        self.transformer = nn.Sequential(*[\n",
    "            TransformerBlock(embed_dim, num_heads, ff_dim)\n",
    "            for _ in range(num_layers)\n",
    "        ])\n",
    "        self.decoder = PatchDecoder(patch_size, embed_dim, n_outputs, input_shape)\n",
    "\n",
    "    def forward(self, x):  # x: [B, 1, T, F]\n",
    "        x = self.embed(x)          # [B, Num_patches, Embed_dim]\n",
    "        x = self.transformer(x)    # [B, Num_patches, Embed_dim]\n",
    "        x = self.decoder(x)        # [B, n_outputs, T, F]\n",
    "        return x\n"
   ]
  }
 ],
 "metadata": {
  "kernelspec": {
   "display_name": "Python 3",
   "language": "python",
   "name": "python3"
  },
  "language_info": {
   "codemirror_mode": {
    "name": "ipython",
    "version": 3
   },
   "file_extension": ".py",
   "mimetype": "text/x-python",
   "name": "python",
   "nbconvert_exporter": "python",
   "pygments_lexer": "ipython3",
   "version": "3.11.9"
  }
 },
 "nbformat": 4,
 "nbformat_minor": 5
}
