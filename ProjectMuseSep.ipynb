{
 "cells": [
  {
   "cell_type": "markdown",
   "id": "5fa5561e",
   "metadata": {},
   "source": [
    "Библиотеки"
   ]
  },
  {
   "cell_type": "code",
   "execution_count": 1,
   "id": "705be30f",
   "metadata": {},
   "outputs": [],
   "source": [
    "# Импорт PyTorch\n",
    "import torch\n",
    "import torch.nn as nn\n",
    "import torch.optim as optim\n",
    "from torch.utils.data import DataLoader, Dataset\n",
    "import torchaudio\n",
    "\n",
    "# Импорт NumPy\n",
    "import numpy as np\n",
    "\n",
    "# Импорт Matplotlib\n",
    "import matplotlib.pyplot as plt\n",
    "\n",
    "# Импорт Librosa\n",
    "import librosa\n",
    "import librosa.display\n",
    "\n",
    "#импорт os\n",
    "import os"
   ]
  },
  {
   "cell_type": "markdown",
   "id": "99e1c024",
   "metadata": {},
   "source": [
    "пути для входных и целевых данных"
   ]
  },
  {
   "cell_type": "code",
   "execution_count": 5,
   "id": "f2fb653d",
   "metadata": {},
   "outputs": [],
   "source": [
    "mix_dir = \"C:\\для учебы\\Диплом\\Диплом маг\\DataSet\\SDataSet\\mix\"\n",
    "inst_dir = \"C:\\для учебы\\Диплом\\Диплом маг\\DataSet\\SDataSet\\instruments\""
   ]
  },
  {
   "cell_type": "markdown",
   "id": "b4ce35fc",
   "metadata": {},
   "source": [
    "Класс дата-сета"
   ]
  },
  {
   "cell_type": "code",
   "execution_count": 2,
   "id": "cfd2f8bb",
   "metadata": {},
   "outputs": [],
   "source": [
    "class MusicSeparationDataset(Dataset):\n",
    "    def __init__(self, mix_dir, instruments_dir, sample_rate=44100):\n",
    "        self.mix_dir = mix_dir\n",
    "        self.instruments_dir = instruments_dir\n",
    "        self.sample_rate = sample_rate\n",
    "\n",
    "        self.tracks = sorted([ f for f in os.listdir(mix_dir) if f.endswith('.flac')])\n",
    "\n",
    "        self.instrument_classes = ['Bass','Drums','Guitars','Keys']\n",
    "    def __len__(self):\n",
    "        return len(self.tracks)\n",
    "    def __getitem__(self, idx):\n",
    "        track_name = self.tracks[idx]\n",
    "        track_id = os.path.splitext(track_name)[0]\n",
    "\n",
    "        mix_path = os.path.join(self.mix_dir, track_name)\n",
    "        mix_waveform, sr = torchaudio.load(mix_path)\n",
    "\n",
    "        targets = []\n",
    "        for inst in self.instrument_classes:\n",
    "            inst_path = os.path.join(self.instruments_dir, inst, track_name)\n",
    "            inst_waveform, _ = torchaudio.load(inst_path)\n",
    "            targets.append(inst_waveform)\n",
    "        \n",
    "        target_tensor = torch.stack(targets)\n",
    "        return mix_waveform, target_tensor\n"
   ]
  },
  {
   "cell_type": "code",
   "execution_count": 6,
   "id": "ba1c0b2f",
   "metadata": {},
   "outputs": [],
   "source": [
    "data_set = MusicSeparationDataset(mix_dir, inst_dir)"
   ]
  },
  {
   "cell_type": "code",
   "execution_count": 7,
   "id": "82e9db34",
   "metadata": {},
   "outputs": [
    {
     "data": {
      "text/plain": [
       "100"
      ]
     },
     "execution_count": 7,
     "metadata": {},
     "output_type": "execute_result"
    }
   ],
   "source": [
    "len(data_set)"
   ]
  }
 ],
 "metadata": {
  "kernelspec": {
   "display_name": "Python 3",
   "language": "python",
   "name": "python3"
  },
  "language_info": {
   "codemirror_mode": {
    "name": "ipython",
    "version": 3
   },
   "file_extension": ".py",
   "mimetype": "text/x-python",
   "name": "python",
   "nbconvert_exporter": "python",
   "pygments_lexer": "ipython3",
   "version": "3.11.9"
  }
 },
 "nbformat": 4,
 "nbformat_minor": 5
}
